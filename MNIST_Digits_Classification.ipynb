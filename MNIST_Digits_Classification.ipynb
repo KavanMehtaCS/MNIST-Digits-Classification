{
  "nbformat": 4,
  "nbformat_minor": 0,
  "metadata": {
    "colab": {
      "provenance": [],
      "authorship_tag": "ABX9TyPb9k4wGd2x13HIm2Z0ivZ8",
      "include_colab_link": true
    },
    "kernelspec": {
      "name": "python3",
      "display_name": "Python 3"
    },
    "language_info": {
      "name": "python"
    },
    "accelerator": "GPU"
  },
  "cells": [
    {
      "cell_type": "markdown",
      "metadata": {
        "id": "view-in-github",
        "colab_type": "text"
      },
      "source": [
        "<a href=\"https://colab.research.google.com/github/KavanMehtaCS/MNIST-Digits-Classification/blob/main/MNIST_Digits_Classification.ipynb\" target=\"_parent\"><img src=\"https://colab.research.google.com/assets/colab-badge.svg\" alt=\"Open In Colab\"/></a>"
      ]
    },
    {
      "cell_type": "markdown",
      "metadata": {
        "id": "WsrTqW_4xXCD"
      },
      "source": [
        "**Project 1: Digits Classification using a Neural Network**\n",
        "\n",
        "*   **Problem Statement**: Automatic classification of digits from 0-9 using a neural network.\n",
        "*  This project uses 60,000 28 by 28 pixel digit images for training the neural network. A neural network is a network of fully connected sets of neurons that each use activation functions (translating non-linear data into linear data) and different weights and biases to compute an output.\n",
        "*   First of all, the neurons are set to random weights with random biases.\n",
        "Then, the neural network uses the method of backpropagation and gradient\n",
        "descent to learn from its past classification mistakes every time it creates a prediction.\n",
        "*   Backpropagation is the process of using the training loss and adjusting the weights and biases by the value of gradient descent, multiplied with the model’s learning rate. Lastly, the model made classifications on a testing set of 10,000 images and was able to reach a 97.8% accuracy.\n",
        "*   The project can be useful to recognize handwritten digits in checks, accounting, and even historical documents."
      ]
    },
    {
      "cell_type": "code",
      "metadata": {
        "id": "Afv72ZyJsDvv"
      },
      "source": [
        "import numpy as np\n",
        "import tensorflow as tf\n",
        "import pandas as pd\n",
        "import matplotlib.pyplot as plt\n",
        "import keras\n",
        "from keras.models import Sequential\n",
        "from keras.layers import Dense, Dropout\n",
        "%matplotlib inline\n",
        "from sklearn.metrics import confusion_matrix\n",
        "import seaborn as sns\n",
        "from keras import utils as np_utils\n",
        "\n",
        "np.random.seed(0)"
      ],
      "execution_count": null,
      "outputs": []
    },
    {
      "cell_type": "markdown",
      "metadata": {
        "id": "FihzOiMX9Wop"
      },
      "source": [
        "## Data"
      ]
    },
    {
      "cell_type": "markdown",
      "metadata": {
        "id": "v4NTTXMv5XaH"
      },
      "source": [
        "This code block imports the MNIST Data Set and loads the traing and testing data. Then, it prints out the shape of the training set and the testing set. This represents 60,000 28 by 28 pixel images for training and 10,000 28 by 28 pixel images for testing."
      ]
    },
    {
      "cell_type": "code",
      "metadata": {
        "colab": {
          "base_uri": "https://localhost:8080/"
        },
        "id": "PKuHzAzdsOT3",
        "outputId": "27fe28b1-6699-4494-adf2-2e11c6bf5178"
      },
      "source": [
        "from keras.datasets import mnist\n",
        "(x_train, y_train), (x_test, y_test) = mnist.load_data()\n",
        "print(x_train.shape, y_train.shape)\n",
        "print(x_test.shape, y_test.shape)"
      ],
      "execution_count": null,
      "outputs": [
        {
          "output_type": "stream",
          "name": "stdout",
          "text": [
            "Downloading data from https://storage.googleapis.com/tensorflow/tf-keras-datasets/mnist.npz\n",
            "11493376/11490434 [==============================] - 0s 0us/step\n",
            "11501568/11490434 [==============================] - 0s 0us/step\n",
            "(60000, 28, 28) (60000,)\n",
            "(10000, 28, 28) (10000,)\n"
          ]
        }
      ]
    },
    {
      "cell_type": "markdown",
      "metadata": {
        "id": "Jg2BCns-XVYJ"
      },
      "source": [
        "# Visualize Examples"
      ]
    },
    {
      "cell_type": "markdown",
      "metadata": {
        "id": "rGsfMdnF509V"
      },
      "source": [
        "Here, there are ten classes, each one for digits from 0-9 (inclusive). We use the Mathplot library to create 10 different subplots for each of the seperate classes. It uses a loop to iterate and find the first example of each of the different digits in the traing data set. Then, it provides the label of the digit and shows the images in the subplots."
      ]
    },
    {
      "cell_type": "code",
      "metadata": {
        "colab": {
          "base_uri": "https://localhost:8080/",
          "height": 178
        },
        "id": "elHhfOOU9XWI",
        "outputId": "5c02fc72-8add-4830-f4be-2b8e33b83764"
      },
      "source": [
        "num_classes = 10\n",
        "f, x = plt.subplots(1, num_classes, figsize = (20,20))\n",
        "\n",
        "for i in range (0, num_classes):\n",
        "    sample = x_train[y_train == i][0]\n",
        "    x[i].imshow(sample, cmap = 'gray')\n",
        "    x[i].set_title(\"Label: {}\".format(i), fontsize = 16)\n"
      ],
      "execution_count": null,
      "outputs": [
        {
          "output_type": "display_data",
          "data": {
            "image/png": "[encoded data removed]",
            "text/plain": [
              "<Figure size 1440x1440 with 10 Axes>"
            ]
          },
          "metadata": {
            "needs_background": "light"
          }
        }
      ]
    },
    {
      "cell_type": "code",
      "metadata": {
        "colab": {
          "base_uri": "https://localhost:8080/"
        },
        "id": "HMeYZ8j1aRQy",
        "outputId": "7fc28ab7-9715-4e24-e5f5-1802797df9cd"
      },
      "source": [
        "for i in range(10):\n",
        "  print(y_train[i])\n",
        "#This is just showing where the first representation of the digit is in the training set"
      ],
      "execution_count": null,
      "outputs": [
        {
          "output_type": "stream",
          "name": "stdout",
          "text": [
            "5\n",
            "0\n",
            "4\n",
            "1\n",
            "9\n",
            "2\n",
            "1\n",
            "3\n",
            "1\n",
            "4\n"
          ]
        }
      ]
    },
    {
      "cell_type": "code",
      "metadata": {
        "colab": {
          "base_uri": "https://localhost:8080/"
        },
        "id": "EDkXVT_ta-r2",
        "outputId": "7833b31a-b1d5-400e-8bfa-142c5be097e7"
      },
      "source": [
        "#One-hot coding\n",
        "#Provides 0 for all the other classes except the correct digit class for the training data set.\n",
        "#The correct digit class is represented by a 1 indicating true at that specific index in the array.\n",
        "y_train = keras.utils.np_utils.to_categorical(y_train, num_classes)\n",
        "y_test = keras.utils.np_utils.to_categorical(y_test, num_classes)\n",
        "for i in range(10):\n",
        "  print(y_train[i])"
      ],
      "execution_count": null,
      "outputs": [
        {
          "output_type": "stream",
          "name": "stdout",
          "text": [
            "[0. 0. 0. 0. 0. 1. 0. 0. 0. 0.]\n",
            "[1. 0. 0. 0. 0. 0. 0. 0. 0. 0.]\n",
            "[0. 0. 0. 0. 1. 0. 0. 0. 0. 0.]\n",
            "[0. 1. 0. 0. 0. 0. 0. 0. 0. 0.]\n",
            "[0. 0. 0. 0. 0. 0. 0. 0. 0. 1.]\n",
            "[0. 0. 1. 0. 0. 0. 0. 0. 0. 0.]\n",
            "[0. 1. 0. 0. 0. 0. 0. 0. 0. 0.]\n",
            "[0. 0. 0. 1. 0. 0. 0. 0. 0. 0.]\n",
            "[0. 1. 0. 0. 0. 0. 0. 0. 0. 0.]\n",
            "[0. 0. 0. 0. 1. 0. 0. 0. 0. 0.]\n"
          ]
        }
      ]
    },
    {
      "cell_type": "markdown",
      "metadata": {
        "id": "flREWYCJwhCh"
      },
      "source": [
        "# Prepare data\n"
      ]
    },
    {
      "cell_type": "markdown",
      "metadata": {
        "id": "-RqEWiQX7MoC"
      },
      "source": [
        "The normalization of data is done to get values between 0 and 1. Since the pixel value of the colors (RGB) of images are in the range of 0 to 255, we divide by 255. We reshape the data to flatten the 28 by 28 pixel grid into a one-dimensional vector consisting of 784 values for each pixel."
      ]
    },
    {
      "cell_type": "code",
      "metadata": {
        "id": "7GkdDo4awm5L"
      },
      "source": [
        "#normalize data\n",
        "x_train = x_train / 255\n",
        "x_test = x_test / 255"
      ],
      "execution_count": null,
      "outputs": []
    },
    {
      "cell_type": "code",
      "metadata": {
        "colab": {
          "base_uri": "https://localhost:8080/"
        },
        "id": "Wao7musxw1ZH",
        "outputId": "b285baeb-b487-484a-bd16-514cab33887a"
      },
      "source": [
        "#Reshape data\n",
        "print(x_train[0].shape)\n",
        "x_train = x_train.reshape(x_train.shape[0], -1)\n",
        "x_test = x_test.reshape(x_test.shape[0], -1)\n",
        "print(x_train.shape)"
      ],
      "execution_count": null,
      "outputs": [
        {
          "output_type": "stream",
          "name": "stdout",
          "text": [
            "(28, 28)\n",
            "(60000, 784)\n"
          ]
        }
      ]
    },
    {
      "cell_type": "markdown",
      "metadata": {
        "id": "50E9NROh-Y6T"
      },
      "source": [
        "# Fully Connected Neural Network Model"
      ]
    },
    {
      "cell_type": "markdown",
      "metadata": {
        "id": "UCfJiXT_-lZY"
      },
      "source": []
    },
    {
      "cell_type": "markdown",
      "metadata": {
        "id": "o-oMh18_j5kl"
      },
      "source": [
        "##Breaking Down The Neural Network!\n",
        "\n",
        "Before we dive into any code lets break down how a neural network works and what it does.\n",
        "\n",
        "![alt text](http://www.extremetech.com/wp-content/uploads/2015/07/NeuralNetwork.png)\n",
        "*Figure 1*\n",
        "\n",
        "\n"
      ]
    },
    {
      "cell_type": "markdown",
      "metadata": {
        "id": "Xyxxs7oMlWtz"
      },
      "source": [
        "###Layers\n",
        "As we mentioned earlier each neural network consists of multiple layers. At each layer a different transformation of data occurs. Our initial input data is fed through the layers and eventually arrives at the output layer where we will obtain the result.\n",
        "####Input Layer\n",
        "The input layer is the layer that our initial data is passed to. It is the first layer in our neural network.\n",
        "####Output Layer\n",
        "The output layer is the layer that we will retrive our results from. Once the data has passed through all other layers it will arrive here.\n",
        "####Hidden Layer(s)\n",
        "All the other layers in our neural network are called \"hidden layers\". This is because they are hidden to us, we cannot observe them. Most neural networks consist of at least one hidden layer but can have an unlimited amount. Typically, the more complex the model the more hidden layers.\n",
        "####Neurons\n",
        "Each layer is made up of what are called neurons. Neurons have a few different properties that we will discuss later. The important aspect to understand now is that each neuron is responsible for generating/holding/passing ONE numeric value.\n",
        "\n",
        "This means that in the case of our input layer it will have as many neurons as we have input information. For example, say we want to pass an image that is 28x28 pixels, thats 784 pixels. We would need 784 neurons in our input layer to capture each of these pixels.\n",
        "\n",
        "This also means that our output layer will have as many neurons as we have output information. The output is a little more complicated to understand so I'll refrain from an example right now but hopefully you're getting the idea.\n",
        "\n",
        "But what about our hidden layers? Well these have as many neurons as we decide. We'll discuss how we can pick these values later but understand a hidden layer can have any number of neurons.\n",
        "####Connected Layers\n",
        "So how are all these layers connected? Well the neurons in one layer will be connected to neurons in the subsequent layer. However, the neurons can be connected in a variety of different ways.\n",
        "\n",
        "Take for example *Figure 1* (look above). Each neuron in one layer is connected to every neuron in the next layer. This is called a **dense** layer. There are many other ways of connecting layers but well discuss those as we see them.\n",
        "\n"
      ]
    },
    {
      "cell_type": "markdown",
      "metadata": {
        "id": "F92rhvd6PcRI"
      },
      "source": [
        "###Activation Function\n",
        "Activation functions are simply a function that is applied to the weighed sum of a neuron. They can be anything we want but are typically higher order/degree functions that aim to add a higher dimension to our data. We would want to do this to introduce more comolexity to our model. By transforming our data to a higher dimension, we can typically make better, more complex predictions.\n",
        "\n",
        "A list of some common activation functions and their graphs can be seen below.\n",
        "\n",
        "- Relu (Rectified Linear Unit)\n",
        "\n",
        "![alt text](https://yashuseth.files.wordpress.com/2018/02/relu-function.png?w=309&h=274)\n",
        "- Tanh (Hyperbolic Tangent)\n",
        "\n",
        "![alt text](http://mathworld.wolfram.com/images/interactive/TanhReal.gif)\n",
        "- Sigmoid\n",
        "\n",
        "![alt text](https://miro.medium.com/max/970/1*Xu7B5y9gp0iL5ooBj7LtWw.png)\n",
        "\n"
      ]
    },
    {
      "cell_type": "markdown",
      "metadata": {
        "id": "Q2xNjpctlBUM"
      },
      "source": [
        "###Backpropagation\n",
        "Backpropagation is the fundemental algorithm behind training neural networks. It is what changes the weights and biases of our network. It functions through a cost/loss function.\n",
        "\n",
        "####Loss/Cost Function\n",
        "The neural network feeds information through the layers until it eventually reaches an output layer. This layer contains the results that we look at to determine the prediciton from our network. In the training phase it is likely that our network will make many mistakes and poor predicitions. In fact, at the start of training our network doesn't know anything (it has random weights and biases)!\n",
        "\n",
        "We need some way of evaluating if the network is doing well and how well it is doing. For our training data we have the features (input) and the labels (expected output), because of this we can compare the output from our network to the expected output. Based on the difference between these values we can determine if our network has done a good job or poor job. If the network has done a good job, we'll make minor changes to the weights and biases. If it has done a poor job our changes may be more drastic.\n",
        "\n",
        "So, this is where the cost/loss function comes in. This function is responsible for determining how well the network did. We pass it the output and the expected output, and it returns to us some value representing the cost/loss of the network. This effectively makes the networks job to optimize this cost function, trying to make it as low as possible.\n",
        "\n",
        "Some common loss/cost functions include.\n",
        "- Mean Squared Error\n",
        "- Mean Absolute Error\n",
        "- Hinge Loss\n",
        "\n",
        "####Gradient Descent\n",
        "Gradient descent and backpropagation are closely related. Gradient descent is the algorithm used to find the optimal paramaters (weights and biases) for our network, while backpropagation is the process of calculating the gradient that is used in the gradient descent step.\n",
        "\n",
        "Gradient descent requires some pretty advanced calculus and linear algebra to understand so we'll stay away from that for now. Let's just read the formal definition for now.\n",
        "\n",
        "\"Gradient descent is an optimization algorithm used to minimize some function by iteratively moving in the direction of steepest descent as defined by the negative of the gradient. In machine learning, we use gradient descent to update the parameters of our model.\" (https://ml-cheatsheet.readthedocs.io/en/latest/gradient_descent.html)\n",
        "\n",
        "![alt text](https://cdn-images-1.medium.com/max/1000/1*iU1QCnSTKrDjIPjSAENLuQ.png)\n",
        "\n"
      ]
    },
    {
      "cell_type": "markdown",
      "metadata": {
        "id": "UbWEn3EpOctJ"
      },
      "source": [
        "We use the ReLU activation function. There are 128 neurons each in 2 densely connected layers. We use a dropout to deactivate 25% of the neurons to prevent overfitting to the training data. The Last dense layer is for the classifier and as we have 10 different digits, we would have 1 neuron for each digit. It uses a softmax function which assigns a probability to each different digit class in terms of its match with the actual image. Categorical crossentropy is a loss function that is used in multi-class classification tasks and is used to quantify the difference between two probability distributions. The Adam optimizer is a very standard optimizer that uses stochastic gradient descent for training deep learning models."
      ]
    },
    {
      "cell_type": "code",
      "metadata": {
        "colab": {
          "base_uri": "https://localhost:8080/"
        },
        "id": "tdPtHssxxtDR",
        "outputId": "4664bcbc-eab3-4a7c-d702-aa0f35d6a22d"
      },
      "source": [
        "#Model - Fully connected neural network\n",
        "model = Sequential()\n",
        "\n",
        "model.add(Dense(units = 128, input_shape = (784, ), activation = 'relu'))\n",
        "model.add(Dense(units = 128, activation = 'relu'))\n",
        "model.add(Dropout(0.25)) #Prevents overfitting\n",
        "model.add(Dense(units = 10, activation = 'softmax'))\n",
        "model.compile(loss = 'categorical_crossentropy', optimizer = 'adam', metrics = ['accuracy'])\n",
        "model.summary()"
      ],
      "execution_count": null,
      "outputs": [
        {
          "output_type": "stream",
          "name": "stdout",
          "text": [
            "Model: \"sequential\"\n",
            "_________________________________________________________________\n",
            " Layer (type)                Output Shape              Param #   \n",
            "=================================================================\n",
            " dense (Dense)               (None, 128)               100480    \n",
            "                                                                 \n",
            " dense_1 (Dense)             (None, 128)               16512     \n",
            "                                                                 \n",
            " dropout (Dropout)           (None, 128)               0         \n",
            "                                                                 \n",
            " dense_2 (Dense)             (None, 10)                1290      \n",
            "                                                                 \n",
            "=================================================================\n",
            "Total params: 118,282\n",
            "Trainable params: 118,282\n",
            "Non-trainable params: 0\n",
            "_________________________________________________________________\n"
          ]
        }
      ]
    },
    {
      "cell_type": "markdown",
      "metadata": {
        "id": "fi9hN8FbQ3J1"
      },
      "source": [
        "# Train"
      ]
    },
    {
      "cell_type": "code",
      "metadata": {
        "colab": {
          "base_uri": "https://localhost:8080/"
        },
        "id": "L84GTAIEz_qr",
        "outputId": "e8536262-7de6-4691-c4af-f8ea0c7edcae"
      },
      "source": [
        "#Train\n",
        "batch_size = 512\n",
        "epochs = 10\n",
        "model.fit(x = x_train, y = y_train, batch_size = batch_size, epochs = epochs)"
      ],
      "execution_count": null,
      "outputs": [
        {
          "output_type": "stream",
          "name": "stdout",
          "text": [
            "Epoch 1/10\n",
            "118/118 [==============================] - 3s 6ms/step - loss: 0.5899 - accuracy: 0.8305\n",
            "Epoch 2/10\n",
            "118/118 [==============================] - 1s 5ms/step - loss: 0.2227 - accuracy: 0.9358\n",
            "Epoch 3/10\n",
            "118/118 [==============================] - 1s 6ms/step - loss: 0.1610 - accuracy: 0.9522\n",
            "Epoch 4/10\n",
            "118/118 [==============================] - 1s 6ms/step - loss: 0.1263 - accuracy: 0.9628\n",
            "Epoch 5/10\n",
            "118/118 [==============================] - 1s 5ms/step - loss: 0.1045 - accuracy: 0.9692\n",
            "Epoch 6/10\n",
            "118/118 [==============================] - 1s 5ms/step - loss: 0.0908 - accuracy: 0.9728\n",
            "Epoch 7/10\n",
            "118/118 [==============================] - 1s 5ms/step - loss: 0.0770 - accuracy: 0.9767\n",
            "Epoch 8/10\n",
            "118/118 [==============================] - 1s 5ms/step - loss: 0.0673 - accuracy: 0.9798\n",
            "Epoch 9/10\n",
            "118/118 [==============================] - 1s 5ms/step - loss: 0.0591 - accuracy: 0.9821\n",
            "Epoch 10/10\n",
            "118/118 [==============================] - 1s 5ms/step - loss: 0.0509 - accuracy: 0.9850\n"
          ]
        },
        {
          "output_type": "execute_result",
          "data": {
            "text/plain": [
              "<keras.callbacks.History at 0x7f29d0181e50>"
            ]
          },
          "metadata": {},
          "execution_count": 10
        }
      ]
    },
    {
      "cell_type": "markdown",
      "metadata": {
        "id": "e37lFywCQ9BJ"
      },
      "source": [
        "# Evaluate"
      ]
    },
    {
      "cell_type": "code",
      "metadata": {
        "colab": {
          "base_uri": "https://localhost:8080/"
        },
        "id": "4jRhfiWYjcZn",
        "outputId": "f7a6bfe2-9e44-4696-91a1-3ea1fca20ed3"
      },
      "source": [
        "#Evaluate\n",
        "test_loss, test_acc = model.evaluate(x_test, y_test)\n",
        "print(\"Test Loss: {}, Test Accuracy: {}\".format(test_loss, test_acc))"
      ],
      "execution_count": null,
      "outputs": [
        {
          "output_type": "stream",
          "name": "stdout",
          "text": [
            "313/313 [==============================] - 2s 4ms/step - loss: 0.0768 - accuracy: 0.9773\n",
            "Test Loss: 0.07682613283395767, Test Accuracy: 0.9772999882698059\n"
          ]
        }
      ]
    },
    {
      "cell_type": "code",
      "metadata": {
        "colab": {
          "base_uri": "https://localhost:8080/"
        },
        "id": "jlN0q_Q2kGWK",
        "outputId": "c5d11d9a-7b57-459a-dfb2-11dd194aebb7"
      },
      "source": [
        "#Predicting on all the test cases\n",
        "y_pred = model.predict(x_test)\n",
        "y_pred_classes = np.argmax(y_pred, axis = 1)\n",
        "print(y_pred)\n",
        "print(y_pred_classes)"
      ],
      "execution_count": null,
      "outputs": [
        {
          "output_type": "stream",
          "name": "stdout",
          "text": [
            "[[4.39099239e-07 2.25180784e-07 3.82968938e-06 ... 9.99967456e-01\n",
            "  1.11399245e-07 3.64172456e-06]\n",
            " [1.14112254e-06 6.68928187e-05 9.99331892e-01 ... 2.62980308e-07\n",
            "  8.20145033e-06 3.84721499e-09]\n",
            " [9.51304719e-06 9.94942963e-01 6.47751789e-04 ... 1.64348795e-03\n",
            "  1.47762347e-03 9.31504655e-06]\n",
            " ...\n",
            " [3.16928955e-10 1.03206750e-08 2.50365478e-10 ... 7.13582131e-06\n",
            "  4.92754054e-07 3.84324194e-05]\n",
            " [2.85972817e-07 4.51015936e-08 1.70182901e-09 ... 6.87458490e-09\n",
            "  2.40211753e-04 9.93165230e-08]\n",
            " [2.24976322e-08 2.16285097e-11 6.61986077e-10 ... 9.28521257e-13\n",
            "  5.87765170e-09 1.51590095e-11]]\n",
            "[7 2 1 ... 4 5 6]\n"
          ]
        }
      ]
    },
    {
      "cell_type": "code",
      "metadata": {
        "colab": {
          "base_uri": "https://localhost:8080/",
          "height": 320
        },
        "id": "fKeEOeV5kqPH",
        "outputId": "0fecb323-e985-4fc7-fdb4-a4e2dfeafaa5"
      },
      "source": [
        "#Single Example\n",
        "random_idx = np.random.choice(len(x_test))\n",
        "x_sample = x_test[random_idx]\n",
        "y_true = np.argmax(y_test, axis = 1)\n",
        "y_sample_true = y_true[random_idx]\n",
        "y_sample_pred_classes = y_pred_classes[random_idx]\n",
        "\n",
        "plt.title(\"Predicted: {}, True: {}\".format(y_sample_pred_classes, y_sample_true), fontsize = 16)\n",
        "plt.imshow(x_sample.reshape(28, 28), cmap = 'gray')"
      ],
      "execution_count": null,
      "outputs": [
        {
          "output_type": "execute_result",
          "data": {
            "text/plain": [
              "<matplotlib.image.AxesImage at 0x7f29de4dc890>"
            ]
          },
          "metadata": {},
          "execution_count": 13
        },
        {
          "output_type": "display_data",
          "data": {
            "image/png": "[encoded data removed]",
            "text/plain": [
              "<Figure size 432x288 with 1 Axes>"
            ]
          },
          "metadata": {
            "needs_background": "light"
          }
        }
      ]
    },
    {
      "cell_type": "code",
      "metadata": {
        "colab": {
          "base_uri": "https://localhost:8080/",
          "height": 641
        },
        "id": "nooclpSNl3Y0",
        "outputId": "47ca2ef5-9f63-4cf3-adee-92705c84eb85"
      },
      "source": [
        "#Confusion matrix\n",
        "confusion_mtx = confusion_matrix(y_true, y_pred_classes)\n",
        "\n",
        "#Plot (Meaning: Consider predicted label as x axis and true label as y axis, shows all predictions for all the different digits)\n",
        "fig, ax = plt.subplots(figsize = (15, 10))\n",
        "ax = sns.heatmap(confusion_mtx, annot = True, fmt = 'd', ax = ax, cmap = 'Blues')\n",
        "ax.set_xlabel('Predicted Label')\n",
        "ax.set_ylabel('True Label')\n",
        "ax.set_title(confusion_matrix);"
      ],
      "execution_count": null,
      "outputs": [
        {
          "output_type": "display_data",
          "data": {
            "image/png": "[encoded data removed]",
            "text/plain": [
              "<Figure size 1080x720 with 2 Axes>"
            ]
          },
          "metadata": {
            "needs_background": "light"
          }
        }
      ]
    },
    {
      "cell_type": "code",
      "metadata": {
        "id": "vXgw17_5n7bW"
      },
      "source": [
        "#Investigating errors\n",
        "errors = (y_pred_classes - y_true != 0)\n",
        "y_pred_classes_errors = y_pred_classes[errors]\n",
        "y_pred_errors = y_pred[errors]\n",
        "y_true_errors = y_true[errors]\n",
        "x_test_errors = x_test[errors]"
      ],
      "execution_count": null,
      "outputs": []
    },
    {
      "cell_type": "code",
      "metadata": {
        "id": "MDRjhmPooeCw"
      },
      "source": [
        "#find where model is least sure about a number\n",
        "y_pred_errors_probability = np.max(y_pred_errors, axis=1)\n",
        "true_probability_errors = np.diagonal(np.take(y_pred_errors, y_true_errors, axis=1))\n",
        "diff_errors_pred_true = y_pred_errors_probability - true_probability_errors\n",
        "\n",
        "# Get list of indices of sorted differences\n",
        "sorted_idx_diff_errors = np.argsort(diff_errors_pred_true)\n",
        "top_idx_diff_errors = sorted_idx_diff_errors[-5:] # 5 last ones\n"
      ],
      "execution_count": null,
      "outputs": []
    },
    {
      "cell_type": "code",
      "metadata": {
        "id": "viiTVIxnn6-V",
        "colab": {
          "base_uri": "https://localhost:8080/",
          "height": 279
        },
        "outputId": "15fe8a1b-293e-4245-8580-8d554a7fccd9"
      },
      "source": [
        "# Show Top Errors\n",
        "num = len(top_idx_diff_errors)\n",
        "f, ax = plt.subplots(1, num, figsize=(30,30))\n",
        "\n",
        "for i in range(0, num):\n",
        "  idx = top_idx_diff_errors[i]\n",
        "  sample = x_test_errors[idx].reshape(28,28)\n",
        "  y_t = y_true_errors[idx]\n",
        "  y_p = y_pred_classes_errors[idx]\n",
        "  ax[i].imshow(sample, cmap='gray')\n",
        "  ax[i].set_title(\"Predicted label :{}\\nTrue label: {}\".format(y_p, y_t), fontsize=22)"
      ],
      "execution_count": null,
      "outputs": [
        {
          "output_type": "display_data",
          "data": {
            "image/png": "[encoded data removed]",
            "text/plain": [
              "<Figure size 2160x2160 with 5 Axes>"
            ]
          },
          "metadata": {
            "needs_background": "light"
          }
        }
      ]
    }
  ]
}